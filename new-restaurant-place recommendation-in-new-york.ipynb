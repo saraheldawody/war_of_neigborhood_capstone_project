{
 "cells": [
  {
   "cell_type": "markdown",
   "metadata": {},
   "source": [
    "# Problem Definition :\n",
    "A very talented Chief wants to open a new restaurant based on New York City that will be his on his name and he can make the best dishes he excellent on making them and try to invent new dishes on his name. He wants to open a restaurant but he doesn't know where he has to open it so it can be the best place for selling and making a reputation. \n",
    "### So our key question here is:\n",
    "<strong> WHERE IS THE BEST PLACE TO OPEN A NEW RESTAURANT?</strong>\n",
    "\n",
    "# How we can solve this Problem :"
   ]
  },
  {
   "cell_type": "markdown",
   "metadata": {},
   "source": [
    "With this problem we will use New York Neigborhood dataset that contains the postal codes of each neighborhood and in which districe each neighborhood exist with the latitude and llongidtude of each neigborhood.\n",
    "We need first to know which neighborhoods are the most neigborhoods that has activities like shopping centers, clubs, parks and other active places this will be a very good chance for a restaurant to have the best sells because of the people whom spending time on these activities. Also we need to consider from these places the least places had a restaurants so the less number of restaurants exist the more chance of having customers in the restaurant that just new opend.\n",
    "So for having this data and for producing data of venues we will use Foursquare location data."
   ]
  },
  {
   "cell_type": "code",
   "execution_count": null,
   "metadata": {},
   "outputs": [],
   "source": []
  }
 ],
 "metadata": {
  "kernelspec": {
   "display_name": "Python 3",
   "language": "python",
   "name": "python3"
  },
  "language_info": {
   "codemirror_mode": {
    "name": "ipython",
    "version": 3
   },
   "file_extension": ".py",
   "mimetype": "text/x-python",
   "name": "python",
   "nbconvert_exporter": "python",
   "pygments_lexer": "ipython3",
   "version": "3.7.3"
  }
 },
 "nbformat": 4,
 "nbformat_minor": 2
}
